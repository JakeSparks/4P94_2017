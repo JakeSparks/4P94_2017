{
 "cells": [
  {
   "cell_type": "markdown",
   "metadata": {
    "slideshow": {
     "slide_type": "slide"
    }
   },
   "source": [
    "# Structure of analysis\n",
    "- Objective\n",
    "- Modules\n",
    "- Import \n",
    "- Clean \n",
    "- Organize \n",
    "- Generate \n",
    "- Analyze"
   ]
  },
  {
   "cell_type": "markdown",
   "metadata": {
    "slideshow": {
     "slide_type": "slide"
    }
   },
   "source": [
    "# Objective\n",
    "\n",
    "1. Calculate team win percentages: $winper=\\frac{W}{W+L}$\n",
    "2. Calculate team expected win percentages based on the origonal Pythagoream formula: $\\widehat{winper}=\\frac{RF^2}{RF^2+ RA^2}$\n",
    "3. Save datafram as csv in working directory"
   ]
  },
  {
   "cell_type": "markdown",
   "metadata": {
    "slideshow": {
     "slide_type": "slide"
    }
   },
   "source": [
    "## Modules"
   ]
  },
  {
   "cell_type": "code",
   "execution_count": 1,
   "metadata": {},
   "outputs": [],
   "source": [
    "import os\n",
    "import sys\n",
    "import pandas \n",
    "import numpy\n",
    "import matplotlib.pyplot as plt"
   ]
  },
  {
   "cell_type": "markdown",
   "metadata": {
    "slideshow": {
     "slide_type": "slide"
    }
   },
   "source": [
    "## Import"
   ]
  },
  {
   "cell_type": "code",
   "execution_count": 2,
   "metadata": {},
   "outputs": [
    {
     "name": "stdout",
     "output_type": "stream",
     "text": [
      "observe working directory\n"
     ]
    },
    {
     "data": {
      "text/plain": [
       "'C:\\\\Users\\\\kmongeon\\\\GIT\\\\4P94_2017\\\\01-pythagorean'"
      ]
     },
     "execution_count": 2,
     "metadata": {},
     "output_type": "execute_result"
    }
   ],
   "source": [
    "print('observe working directory')\n",
    "os.getcwd()"
   ]
  },
  {
   "cell_type": "code",
   "execution_count": 3,
   "metadata": {
    "slideshow": {
     "slide_type": "-"
    }
   },
   "outputs": [],
   "source": [
    "# print('change working directory')\n",
    "# os.chdir('/home/vmuser/Documents/4P94/01-pythagorean')"
   ]
  },
  {
   "cell_type": "code",
   "execution_count": 4,
   "metadata": {
    "slideshow": {
     "slide_type": "-"
    }
   },
   "outputs": [
    {
     "data": {
      "text/html": [
       "<div>\n",
       "<style scoped>\n",
       "    .dataframe tbody tr th:only-of-type {\n",
       "        vertical-align: middle;\n",
       "    }\n",
       "\n",
       "    .dataframe tbody tr th {\n",
       "        vertical-align: top;\n",
       "    }\n",
       "\n",
       "    .dataframe thead th {\n",
       "        text-align: right;\n",
       "    }\n",
       "</style>\n",
       "<table border=\"1\" class=\"dataframe\">\n",
       "  <thead>\n",
       "    <tr style=\"text-align: right;\">\n",
       "      <th></th>\n",
       "      <th>Team</th>\n",
       "      <th>League</th>\n",
       "      <th>W</th>\n",
       "      <th>L</th>\n",
       "      <th>Runs For</th>\n",
       "      <th>Runs Against</th>\n",
       "    </tr>\n",
       "  </thead>\n",
       "  <tbody>\n",
       "    <tr>\n",
       "      <th>0</th>\n",
       "      <td>Philadelphia Phillies</td>\n",
       "      <td>NL</td>\n",
       "      <td>63</td>\n",
       "      <td>99</td>\n",
       "      <td>626</td>\n",
       "      <td>809</td>\n",
       "    </tr>\n",
       "    <tr>\n",
       "      <th>1</th>\n",
       "      <td>Cincinnati Reds</td>\n",
       "      <td>NL</td>\n",
       "      <td>64</td>\n",
       "      <td>98</td>\n",
       "      <td>641</td>\n",
       "      <td>754</td>\n",
       "    </tr>\n",
       "    <tr>\n",
       "      <th>2</th>\n",
       "      <td>Atlanta Braves</td>\n",
       "      <td>NL</td>\n",
       "      <td>67</td>\n",
       "      <td>95</td>\n",
       "      <td>573</td>\n",
       "      <td>760</td>\n",
       "    </tr>\n",
       "    <tr>\n",
       "      <th>3</th>\n",
       "      <td>Colorado Rockies</td>\n",
       "      <td>NL</td>\n",
       "      <td>68</td>\n",
       "      <td>94</td>\n",
       "      <td>737</td>\n",
       "      <td>844</td>\n",
       "    </tr>\n",
       "    <tr>\n",
       "      <th>4</th>\n",
       "      <td>Milwaukee Brewers</td>\n",
       "      <td>NL</td>\n",
       "      <td>68</td>\n",
       "      <td>94</td>\n",
       "      <td>655</td>\n",
       "      <td>738</td>\n",
       "    </tr>\n",
       "  </tbody>\n",
       "</table>\n",
       "</div>"
      ],
      "text/plain": [
       "                    Team League   W   L  Runs For  Runs Against\n",
       "0  Philadelphia Phillies     NL  63  99       626           809\n",
       "1        Cincinnati Reds     NL  64  98       641           754\n",
       "2         Atlanta Braves     NL  67  95       573           760\n",
       "3       Colorado Rockies     NL  68  94       737           844\n",
       "4      Milwaukee Brewers     NL  68  94       655           738"
      ]
     },
     "execution_count": 4,
     "metadata": {},
     "output_type": "execute_result"
    }
   ],
   "source": [
    "dm = pandas.read_csv('mlb_win.csv')\n",
    "dm.head()"
   ]
  },
  {
   "cell_type": "code",
   "execution_count": 5,
   "metadata": {},
   "outputs": [
    {
     "data": {
      "text/html": [
       "<div>\n",
       "<style scoped>\n",
       "    .dataframe tbody tr th:only-of-type {\n",
       "        vertical-align: middle;\n",
       "    }\n",
       "\n",
       "    .dataframe tbody tr th {\n",
       "        vertical-align: top;\n",
       "    }\n",
       "\n",
       "    .dataframe thead th {\n",
       "        text-align: right;\n",
       "    }\n",
       "</style>\n",
       "<table border=\"1\" class=\"dataframe\">\n",
       "  <thead>\n",
       "    <tr style=\"text-align: right;\">\n",
       "      <th></th>\n",
       "      <th>Team</th>\n",
       "      <th>League</th>\n",
       "      <th>W</th>\n",
       "      <th>L</th>\n",
       "      <th>Runs For</th>\n",
       "      <th>Runs Against</th>\n",
       "    </tr>\n",
       "  </thead>\n",
       "  <tbody>\n",
       "    <tr>\n",
       "      <th>0</th>\n",
       "      <td>Philadelphia Phillies</td>\n",
       "      <td>NL</td>\n",
       "      <td>63</td>\n",
       "      <td>99</td>\n",
       "      <td>626</td>\n",
       "      <td>809</td>\n",
       "    </tr>\n",
       "    <tr>\n",
       "      <th>1</th>\n",
       "      <td>Cincinnati Reds</td>\n",
       "      <td>NL</td>\n",
       "      <td>64</td>\n",
       "      <td>98</td>\n",
       "      <td>641</td>\n",
       "      <td>754</td>\n",
       "    </tr>\n",
       "    <tr>\n",
       "      <th>2</th>\n",
       "      <td>Atlanta Braves</td>\n",
       "      <td>NL</td>\n",
       "      <td>67</td>\n",
       "      <td>95</td>\n",
       "      <td>573</td>\n",
       "      <td>760</td>\n",
       "    </tr>\n",
       "    <tr>\n",
       "      <th>3</th>\n",
       "      <td>Colorado Rockies</td>\n",
       "      <td>NL</td>\n",
       "      <td>68</td>\n",
       "      <td>94</td>\n",
       "      <td>737</td>\n",
       "      <td>844</td>\n",
       "    </tr>\n",
       "    <tr>\n",
       "      <th>4</th>\n",
       "      <td>Milwaukee Brewers</td>\n",
       "      <td>NL</td>\n",
       "      <td>68</td>\n",
       "      <td>94</td>\n",
       "      <td>655</td>\n",
       "      <td>738</td>\n",
       "    </tr>\n",
       "    <tr>\n",
       "      <th>5</th>\n",
       "      <td>Oakland Athletics</td>\n",
       "      <td>AL</td>\n",
       "      <td>68</td>\n",
       "      <td>94</td>\n",
       "      <td>694</td>\n",
       "      <td>729</td>\n",
       "    </tr>\n",
       "    <tr>\n",
       "      <th>6</th>\n",
       "      <td>Miami Marlins</td>\n",
       "      <td>NL</td>\n",
       "      <td>71</td>\n",
       "      <td>91</td>\n",
       "      <td>613</td>\n",
       "      <td>678</td>\n",
       "    </tr>\n",
       "    <tr>\n",
       "      <th>7</th>\n",
       "      <td>San Diego Padres</td>\n",
       "      <td>NL</td>\n",
       "      <td>74</td>\n",
       "      <td>88</td>\n",
       "      <td>650</td>\n",
       "      <td>731</td>\n",
       "    </tr>\n",
       "    <tr>\n",
       "      <th>8</th>\n",
       "      <td>Detroit Tigers</td>\n",
       "      <td>AL</td>\n",
       "      <td>74</td>\n",
       "      <td>87</td>\n",
       "      <td>689</td>\n",
       "      <td>803</td>\n",
       "    </tr>\n",
       "    <tr>\n",
       "      <th>9</th>\n",
       "      <td>Chicago White Sox</td>\n",
       "      <td>AL</td>\n",
       "      <td>76</td>\n",
       "      <td>86</td>\n",
       "      <td>622</td>\n",
       "      <td>701</td>\n",
       "    </tr>\n",
       "    <tr>\n",
       "      <th>10</th>\n",
       "      <td>Seattle Mariners</td>\n",
       "      <td>AL</td>\n",
       "      <td>76</td>\n",
       "      <td>86</td>\n",
       "      <td>656</td>\n",
       "      <td>726</td>\n",
       "    </tr>\n",
       "    <tr>\n",
       "      <th>11</th>\n",
       "      <td>Boston Red Sox</td>\n",
       "      <td>AL</td>\n",
       "      <td>78</td>\n",
       "      <td>84</td>\n",
       "      <td>748</td>\n",
       "      <td>753</td>\n",
       "    </tr>\n",
       "    <tr>\n",
       "      <th>12</th>\n",
       "      <td>Arizona Diamondbacks</td>\n",
       "      <td>NL</td>\n",
       "      <td>79</td>\n",
       "      <td>83</td>\n",
       "      <td>720</td>\n",
       "      <td>713</td>\n",
       "    </tr>\n",
       "    <tr>\n",
       "      <th>13</th>\n",
       "      <td>Tampa Bay Rays</td>\n",
       "      <td>AL</td>\n",
       "      <td>80</td>\n",
       "      <td>82</td>\n",
       "      <td>644</td>\n",
       "      <td>642</td>\n",
       "    </tr>\n",
       "    <tr>\n",
       "      <th>14</th>\n",
       "      <td>Baltimore Orioles</td>\n",
       "      <td>AL</td>\n",
       "      <td>81</td>\n",
       "      <td>81</td>\n",
       "      <td>713</td>\n",
       "      <td>693</td>\n",
       "    </tr>\n",
       "    <tr>\n",
       "      <th>15</th>\n",
       "      <td>Cleveland Indians</td>\n",
       "      <td>AL</td>\n",
       "      <td>81</td>\n",
       "      <td>80</td>\n",
       "      <td>669</td>\n",
       "      <td>640</td>\n",
       "    </tr>\n",
       "    <tr>\n",
       "      <th>16</th>\n",
       "      <td>Minnesota Twins</td>\n",
       "      <td>AL</td>\n",
       "      <td>83</td>\n",
       "      <td>79</td>\n",
       "      <td>696</td>\n",
       "      <td>700</td>\n",
       "    </tr>\n",
       "    <tr>\n",
       "      <th>17</th>\n",
       "      <td>Washington Nationals</td>\n",
       "      <td>NL</td>\n",
       "      <td>83</td>\n",
       "      <td>79</td>\n",
       "      <td>703</td>\n",
       "      <td>635</td>\n",
       "    </tr>\n",
       "    <tr>\n",
       "      <th>18</th>\n",
       "      <td>San Francisco Giants</td>\n",
       "      <td>NL</td>\n",
       "      <td>84</td>\n",
       "      <td>78</td>\n",
       "      <td>696</td>\n",
       "      <td>627</td>\n",
       "    </tr>\n",
       "    <tr>\n",
       "      <th>19</th>\n",
       "      <td>Los Angeles Angels</td>\n",
       "      <td>AL</td>\n",
       "      <td>85</td>\n",
       "      <td>77</td>\n",
       "      <td>661</td>\n",
       "      <td>675</td>\n",
       "    </tr>\n",
       "    <tr>\n",
       "      <th>20</th>\n",
       "      <td>Houston Astros</td>\n",
       "      <td>AL</td>\n",
       "      <td>86</td>\n",
       "      <td>76</td>\n",
       "      <td>729</td>\n",
       "      <td>618</td>\n",
       "    </tr>\n",
       "    <tr>\n",
       "      <th>21</th>\n",
       "      <td>New York Yankees</td>\n",
       "      <td>AL</td>\n",
       "      <td>87</td>\n",
       "      <td>75</td>\n",
       "      <td>764</td>\n",
       "      <td>698</td>\n",
       "    </tr>\n",
       "    <tr>\n",
       "      <th>22</th>\n",
       "      <td>Texas Rangers</td>\n",
       "      <td>AL</td>\n",
       "      <td>88</td>\n",
       "      <td>74</td>\n",
       "      <td>751</td>\n",
       "      <td>733</td>\n",
       "    </tr>\n",
       "    <tr>\n",
       "      <th>23</th>\n",
       "      <td>New York Mets</td>\n",
       "      <td>NL</td>\n",
       "      <td>90</td>\n",
       "      <td>72</td>\n",
       "      <td>683</td>\n",
       "      <td>613</td>\n",
       "    </tr>\n",
       "    <tr>\n",
       "      <th>24</th>\n",
       "      <td>Los Angeles Dodgers</td>\n",
       "      <td>NL</td>\n",
       "      <td>92</td>\n",
       "      <td>70</td>\n",
       "      <td>667</td>\n",
       "      <td>595</td>\n",
       "    </tr>\n",
       "    <tr>\n",
       "      <th>25</th>\n",
       "      <td>Toronto Blue Jays</td>\n",
       "      <td>AL</td>\n",
       "      <td>93</td>\n",
       "      <td>69</td>\n",
       "      <td>891</td>\n",
       "      <td>670</td>\n",
       "    </tr>\n",
       "    <tr>\n",
       "      <th>26</th>\n",
       "      <td>Kansas City Royals</td>\n",
       "      <td>AL</td>\n",
       "      <td>95</td>\n",
       "      <td>67</td>\n",
       "      <td>724</td>\n",
       "      <td>641</td>\n",
       "    </tr>\n",
       "    <tr>\n",
       "      <th>27</th>\n",
       "      <td>Chicago Cubs</td>\n",
       "      <td>NL</td>\n",
       "      <td>97</td>\n",
       "      <td>65</td>\n",
       "      <td>689</td>\n",
       "      <td>608</td>\n",
       "    </tr>\n",
       "    <tr>\n",
       "      <th>28</th>\n",
       "      <td>Pittsburgh Pirates</td>\n",
       "      <td>NL</td>\n",
       "      <td>98</td>\n",
       "      <td>64</td>\n",
       "      <td>697</td>\n",
       "      <td>596</td>\n",
       "    </tr>\n",
       "    <tr>\n",
       "      <th>29</th>\n",
       "      <td>St. Louis Cardinals</td>\n",
       "      <td>NL</td>\n",
       "      <td>100</td>\n",
       "      <td>62</td>\n",
       "      <td>647</td>\n",
       "      <td>525</td>\n",
       "    </tr>\n",
       "  </tbody>\n",
       "</table>\n",
       "</div>"
      ],
      "text/plain": [
       "                     Team League    W   L  Runs For  Runs Against\n",
       "0   Philadelphia Phillies     NL   63  99       626           809\n",
       "1         Cincinnati Reds     NL   64  98       641           754\n",
       "2          Atlanta Braves     NL   67  95       573           760\n",
       "3        Colorado Rockies     NL   68  94       737           844\n",
       "4       Milwaukee Brewers     NL   68  94       655           738\n",
       "5       Oakland Athletics     AL   68  94       694           729\n",
       "6           Miami Marlins     NL   71  91       613           678\n",
       "7        San Diego Padres     NL   74  88       650           731\n",
       "8          Detroit Tigers     AL   74  87       689           803\n",
       "9       Chicago White Sox     AL   76  86       622           701\n",
       "10       Seattle Mariners     AL   76  86       656           726\n",
       "11         Boston Red Sox     AL   78  84       748           753\n",
       "12   Arizona Diamondbacks     NL   79  83       720           713\n",
       "13         Tampa Bay Rays     AL   80  82       644           642\n",
       "14      Baltimore Orioles     AL   81  81       713           693\n",
       "15      Cleveland Indians     AL   81  80       669           640\n",
       "16        Minnesota Twins     AL   83  79       696           700\n",
       "17   Washington Nationals     NL   83  79       703           635\n",
       "18   San Francisco Giants     NL   84  78       696           627\n",
       "19     Los Angeles Angels     AL   85  77       661           675\n",
       "20         Houston Astros     AL   86  76       729           618\n",
       "21       New York Yankees     AL   87  75       764           698\n",
       "22          Texas Rangers     AL   88  74       751           733\n",
       "23          New York Mets     NL   90  72       683           613\n",
       "24    Los Angeles Dodgers     NL   92  70       667           595\n",
       "25      Toronto Blue Jays     AL   93  69       891           670\n",
       "26     Kansas City Royals     AL   95  67       724           641\n",
       "27           Chicago Cubs     NL   97  65       689           608\n",
       "28     Pittsburgh Pirates     NL   98  64       697           596\n",
       "29    St. Louis Cardinals     NL  100  62       647           525"
      ]
     },
     "execution_count": 5,
     "metadata": {},
     "output_type": "execute_result"
    }
   ],
   "source": [
    "dm"
   ]
  },
  {
   "cell_type": "markdown",
   "metadata": {
    "slideshow": {
     "slide_type": "slide"
    }
   },
   "source": [
    "## Clean "
   ]
  },
  {
   "cell_type": "code",
   "execution_count": 6,
   "metadata": {
    "slideshow": {
     "slide_type": "-"
    }
   },
   "outputs": [
    {
     "data": {
      "text/plain": [
       "Index(['Team', 'League', 'W', 'L', 'Runs For', 'Runs Against'], dtype='object')"
      ]
     },
     "execution_count": 6,
     "metadata": {},
     "output_type": "execute_result"
    }
   ],
   "source": [
    "dm.columns"
   ]
  },
  {
   "cell_type": "code",
   "execution_count": 7,
   "metadata": {},
   "outputs": [
    {
     "data": {
      "text/plain": [
       "Team            object\n",
       "League          object\n",
       "W                int64\n",
       "L                int64\n",
       "Runs For         int64\n",
       "Runs Against     int64\n",
       "dtype: object"
      ]
     },
     "execution_count": 7,
     "metadata": {},
     "output_type": "execute_result"
    }
   ],
   "source": [
    "dm.dtypes"
   ]
  },
  {
   "cell_type": "markdown",
   "metadata": {
    "slideshow": {
     "slide_type": "slide"
    }
   },
   "source": [
    "## Organize "
   ]
  },
  {
   "cell_type": "code",
   "execution_count": 8,
   "metadata": {
    "slideshow": {
     "slide_type": "-"
    }
   },
   "outputs": [
    {
     "data": {
      "text/html": [
       "<div>\n",
       "<style scoped>\n",
       "    .dataframe tbody tr th:only-of-type {\n",
       "        vertical-align: middle;\n",
       "    }\n",
       "\n",
       "    .dataframe tbody tr th {\n",
       "        vertical-align: top;\n",
       "    }\n",
       "\n",
       "    .dataframe thead th {\n",
       "        text-align: right;\n",
       "    }\n",
       "</style>\n",
       "<table border=\"1\" class=\"dataframe\">\n",
       "  <thead>\n",
       "    <tr style=\"text-align: right;\">\n",
       "      <th></th>\n",
       "      <th>Team</th>\n",
       "      <th>League</th>\n",
       "      <th>W</th>\n",
       "      <th>L</th>\n",
       "      <th>Runs For</th>\n",
       "      <th>Runs Against</th>\n",
       "    </tr>\n",
       "  </thead>\n",
       "  <tbody>\n",
       "    <tr>\n",
       "      <th>14</th>\n",
       "      <td>Baltimore Orioles</td>\n",
       "      <td>AL</td>\n",
       "      <td>81</td>\n",
       "      <td>81</td>\n",
       "      <td>713</td>\n",
       "      <td>693</td>\n",
       "    </tr>\n",
       "    <tr>\n",
       "      <th>11</th>\n",
       "      <td>Boston Red Sox</td>\n",
       "      <td>AL</td>\n",
       "      <td>78</td>\n",
       "      <td>84</td>\n",
       "      <td>748</td>\n",
       "      <td>753</td>\n",
       "    </tr>\n",
       "    <tr>\n",
       "      <th>9</th>\n",
       "      <td>Chicago White Sox</td>\n",
       "      <td>AL</td>\n",
       "      <td>76</td>\n",
       "      <td>86</td>\n",
       "      <td>622</td>\n",
       "      <td>701</td>\n",
       "    </tr>\n",
       "    <tr>\n",
       "      <th>15</th>\n",
       "      <td>Cleveland Indians</td>\n",
       "      <td>AL</td>\n",
       "      <td>81</td>\n",
       "      <td>80</td>\n",
       "      <td>669</td>\n",
       "      <td>640</td>\n",
       "    </tr>\n",
       "    <tr>\n",
       "      <th>8</th>\n",
       "      <td>Detroit Tigers</td>\n",
       "      <td>AL</td>\n",
       "      <td>74</td>\n",
       "      <td>87</td>\n",
       "      <td>689</td>\n",
       "      <td>803</td>\n",
       "    </tr>\n",
       "  </tbody>\n",
       "</table>\n",
       "</div>"
      ],
      "text/plain": [
       "                 Team League   W   L  Runs For  Runs Against\n",
       "14  Baltimore Orioles     AL  81  81       713           693\n",
       "11     Boston Red Sox     AL  78  84       748           753\n",
       "9   Chicago White Sox     AL  76  86       622           701\n",
       "15  Cleveland Indians     AL  81  80       669           640\n",
       "8      Detroit Tigers     AL  74  87       689           803"
      ]
     },
     "execution_count": 8,
     "metadata": {},
     "output_type": "execute_result"
    }
   ],
   "source": [
    "dm = dm.sort_values(by=['League', 'Team'])\n",
    "dm.head()"
   ]
  },
  {
   "cell_type": "markdown",
   "metadata": {
    "slideshow": {
     "slide_type": "slide"
    }
   },
   "source": [
    "## Generate"
   ]
  },
  {
   "cell_type": "code",
   "execution_count": 9,
   "metadata": {
    "slideshow": {
     "slide_type": "-"
    }
   },
   "outputs": [
    {
     "data": {
      "text/html": [
       "<div>\n",
       "<style scoped>\n",
       "    .dataframe tbody tr th:only-of-type {\n",
       "        vertical-align: middle;\n",
       "    }\n",
       "\n",
       "    .dataframe tbody tr th {\n",
       "        vertical-align: top;\n",
       "    }\n",
       "\n",
       "    .dataframe thead th {\n",
       "        text-align: right;\n",
       "    }\n",
       "</style>\n",
       "<table border=\"1\" class=\"dataframe\">\n",
       "  <thead>\n",
       "    <tr style=\"text-align: right;\">\n",
       "      <th></th>\n",
       "      <th>Team</th>\n",
       "      <th>League</th>\n",
       "      <th>W</th>\n",
       "      <th>L</th>\n",
       "      <th>Runs For</th>\n",
       "      <th>Runs Against</th>\n",
       "      <th>RF2</th>\n",
       "      <th>RA2</th>\n",
       "    </tr>\n",
       "  </thead>\n",
       "  <tbody>\n",
       "    <tr>\n",
       "      <th>14</th>\n",
       "      <td>Baltimore Orioles</td>\n",
       "      <td>AL</td>\n",
       "      <td>81</td>\n",
       "      <td>81</td>\n",
       "      <td>713</td>\n",
       "      <td>693</td>\n",
       "      <td>508369</td>\n",
       "      <td>480249</td>\n",
       "    </tr>\n",
       "    <tr>\n",
       "      <th>11</th>\n",
       "      <td>Boston Red Sox</td>\n",
       "      <td>AL</td>\n",
       "      <td>78</td>\n",
       "      <td>84</td>\n",
       "      <td>748</td>\n",
       "      <td>753</td>\n",
       "      <td>559504</td>\n",
       "      <td>567009</td>\n",
       "    </tr>\n",
       "    <tr>\n",
       "      <th>9</th>\n",
       "      <td>Chicago White Sox</td>\n",
       "      <td>AL</td>\n",
       "      <td>76</td>\n",
       "      <td>86</td>\n",
       "      <td>622</td>\n",
       "      <td>701</td>\n",
       "      <td>386884</td>\n",
       "      <td>491401</td>\n",
       "    </tr>\n",
       "    <tr>\n",
       "      <th>15</th>\n",
       "      <td>Cleveland Indians</td>\n",
       "      <td>AL</td>\n",
       "      <td>81</td>\n",
       "      <td>80</td>\n",
       "      <td>669</td>\n",
       "      <td>640</td>\n",
       "      <td>447561</td>\n",
       "      <td>409600</td>\n",
       "    </tr>\n",
       "    <tr>\n",
       "      <th>8</th>\n",
       "      <td>Detroit Tigers</td>\n",
       "      <td>AL</td>\n",
       "      <td>74</td>\n",
       "      <td>87</td>\n",
       "      <td>689</td>\n",
       "      <td>803</td>\n",
       "      <td>474721</td>\n",
       "      <td>644809</td>\n",
       "    </tr>\n",
       "  </tbody>\n",
       "</table>\n",
       "</div>"
      ],
      "text/plain": [
       "                 Team League   W   L  Runs For  Runs Against     RF2     RA2\n",
       "14  Baltimore Orioles     AL  81  81       713           693  508369  480249\n",
       "11     Boston Red Sox     AL  78  84       748           753  559504  567009\n",
       "9   Chicago White Sox     AL  76  86       622           701  386884  491401\n",
       "15  Cleveland Indians     AL  81  80       669           640  447561  409600\n",
       "8      Detroit Tigers     AL  74  87       689           803  474721  644809"
      ]
     },
     "execution_count": 9,
     "metadata": {},
     "output_type": "execute_result"
    }
   ],
   "source": [
    "dm['RF2'] = dm['Runs For']**2\n",
    "dm['RA2'] = dm['Runs Against']**2\n",
    "dm.head()"
   ]
  },
  {
   "cell_type": "markdown",
   "metadata": {
    "slideshow": {
     "slide_type": "slide"
    }
   },
   "source": [
    "##  Analyze "
   ]
  },
  {
   "cell_type": "code",
   "execution_count": 10,
   "metadata": {
    "slideshow": {
     "slide_type": "-"
    }
   },
   "outputs": [
    {
     "data": {
      "text/html": [
       "<div>\n",
       "<style scoped>\n",
       "    .dataframe tbody tr th:only-of-type {\n",
       "        vertical-align: middle;\n",
       "    }\n",
       "\n",
       "    .dataframe tbody tr th {\n",
       "        vertical-align: top;\n",
       "    }\n",
       "\n",
       "    .dataframe thead th {\n",
       "        text-align: right;\n",
       "    }\n",
       "</style>\n",
       "<table border=\"1\" class=\"dataframe\">\n",
       "  <thead>\n",
       "    <tr style=\"text-align: right;\">\n",
       "      <th></th>\n",
       "      <th>Team</th>\n",
       "      <th>League</th>\n",
       "      <th>W</th>\n",
       "      <th>L</th>\n",
       "      <th>Runs For</th>\n",
       "      <th>Runs Against</th>\n",
       "      <th>RF2</th>\n",
       "      <th>RA2</th>\n",
       "      <th>WP</th>\n",
       "      <th>EWP</th>\n",
       "      <th>Diff</th>\n",
       "    </tr>\n",
       "  </thead>\n",
       "  <tbody>\n",
       "    <tr>\n",
       "      <th>14</th>\n",
       "      <td>Baltimore Orioles</td>\n",
       "      <td>AL</td>\n",
       "      <td>81</td>\n",
       "      <td>81</td>\n",
       "      <td>713</td>\n",
       "      <td>693</td>\n",
       "      <td>508369</td>\n",
       "      <td>480249</td>\n",
       "      <td>0.500000</td>\n",
       "      <td>0.514222</td>\n",
       "      <td>-0.014222</td>\n",
       "    </tr>\n",
       "    <tr>\n",
       "      <th>11</th>\n",
       "      <td>Boston Red Sox</td>\n",
       "      <td>AL</td>\n",
       "      <td>78</td>\n",
       "      <td>84</td>\n",
       "      <td>748</td>\n",
       "      <td>753</td>\n",
       "      <td>559504</td>\n",
       "      <td>567009</td>\n",
       "      <td>0.481481</td>\n",
       "      <td>0.496669</td>\n",
       "      <td>-0.015187</td>\n",
       "    </tr>\n",
       "    <tr>\n",
       "      <th>9</th>\n",
       "      <td>Chicago White Sox</td>\n",
       "      <td>AL</td>\n",
       "      <td>76</td>\n",
       "      <td>86</td>\n",
       "      <td>622</td>\n",
       "      <td>701</td>\n",
       "      <td>386884</td>\n",
       "      <td>491401</td>\n",
       "      <td>0.469136</td>\n",
       "      <td>0.440499</td>\n",
       "      <td>0.028636</td>\n",
       "    </tr>\n",
       "    <tr>\n",
       "      <th>15</th>\n",
       "      <td>Cleveland Indians</td>\n",
       "      <td>AL</td>\n",
       "      <td>81</td>\n",
       "      <td>80</td>\n",
       "      <td>669</td>\n",
       "      <td>640</td>\n",
       "      <td>447561</td>\n",
       "      <td>409600</td>\n",
       "      <td>0.503106</td>\n",
       "      <td>0.522143</td>\n",
       "      <td>-0.019038</td>\n",
       "    </tr>\n",
       "    <tr>\n",
       "      <th>8</th>\n",
       "      <td>Detroit Tigers</td>\n",
       "      <td>AL</td>\n",
       "      <td>74</td>\n",
       "      <td>87</td>\n",
       "      <td>689</td>\n",
       "      <td>803</td>\n",
       "      <td>474721</td>\n",
       "      <td>644809</td>\n",
       "      <td>0.459627</td>\n",
       "      <td>0.424036</td>\n",
       "      <td>0.035591</td>\n",
       "    </tr>\n",
       "  </tbody>\n",
       "</table>\n",
       "</div>"
      ],
      "text/plain": [
       "                 Team League   W   L  Runs For  Runs Against     RF2     RA2  \\\n",
       "14  Baltimore Orioles     AL  81  81       713           693  508369  480249   \n",
       "11     Boston Red Sox     AL  78  84       748           753  559504  567009   \n",
       "9   Chicago White Sox     AL  76  86       622           701  386884  491401   \n",
       "15  Cleveland Indians     AL  81  80       669           640  447561  409600   \n",
       "8      Detroit Tigers     AL  74  87       689           803  474721  644809   \n",
       "\n",
       "          WP       EWP      Diff  \n",
       "14  0.500000  0.514222 -0.014222  \n",
       "11  0.481481  0.496669 -0.015187  \n",
       "9   0.469136  0.440499  0.028636  \n",
       "15  0.503106  0.522143 -0.019038  \n",
       "8   0.459627  0.424036  0.035591  "
      ]
     },
     "execution_count": 10,
     "metadata": {},
     "output_type": "execute_result"
    }
   ],
   "source": [
    "dm['WP']  = dm['W'] / (dm['W']  + dm['L'] )\n",
    "dm['EWP'] = dm['RF2'] / (dm['RF2']+ dm['RA2'] )\n",
    "dm['Diff'] = dm['WP']  - dm['EWP']\n",
    "dm.head()"
   ]
  },
  {
   "cell_type": "code",
   "execution_count": 11,
   "metadata": {
    "slideshow": {
     "slide_type": "-"
    }
   },
   "outputs": [
    {
     "data": {
      "text/html": [
       "<div>\n",
       "<style scoped>\n",
       "    .dataframe tbody tr th:only-of-type {\n",
       "        vertical-align: middle;\n",
       "    }\n",
       "\n",
       "    .dataframe tbody tr th {\n",
       "        vertical-align: top;\n",
       "    }\n",
       "\n",
       "    .dataframe thead th {\n",
       "        text-align: right;\n",
       "    }\n",
       "</style>\n",
       "<table border=\"1\" class=\"dataframe\">\n",
       "  <thead>\n",
       "    <tr style=\"text-align: right;\">\n",
       "      <th></th>\n",
       "      <th>Team</th>\n",
       "      <th>WP</th>\n",
       "      <th>EWP</th>\n",
       "    </tr>\n",
       "  </thead>\n",
       "  <tbody>\n",
       "    <tr>\n",
       "      <th>14</th>\n",
       "      <td>Baltimore Orioles</td>\n",
       "      <td>0.500000</td>\n",
       "      <td>0.514222</td>\n",
       "    </tr>\n",
       "    <tr>\n",
       "      <th>11</th>\n",
       "      <td>Boston Red Sox</td>\n",
       "      <td>0.481481</td>\n",
       "      <td>0.496669</td>\n",
       "    </tr>\n",
       "    <tr>\n",
       "      <th>9</th>\n",
       "      <td>Chicago White Sox</td>\n",
       "      <td>0.469136</td>\n",
       "      <td>0.440499</td>\n",
       "    </tr>\n",
       "    <tr>\n",
       "      <th>15</th>\n",
       "      <td>Cleveland Indians</td>\n",
       "      <td>0.503106</td>\n",
       "      <td>0.522143</td>\n",
       "    </tr>\n",
       "    <tr>\n",
       "      <th>8</th>\n",
       "      <td>Detroit Tigers</td>\n",
       "      <td>0.459627</td>\n",
       "      <td>0.424036</td>\n",
       "    </tr>\n",
       "  </tbody>\n",
       "</table>\n",
       "</div>"
      ],
      "text/plain": [
       "                 Team        WP       EWP\n",
       "14  Baltimore Orioles  0.500000  0.514222\n",
       "11     Boston Red Sox  0.481481  0.496669\n",
       "9   Chicago White Sox  0.469136  0.440499\n",
       "15  Cleveland Indians  0.503106  0.522143\n",
       "8      Detroit Tigers  0.459627  0.424036"
      ]
     },
     "execution_count": 11,
     "metadata": {},
     "output_type": "execute_result"
    }
   ],
   "source": [
    "dm[['Team', 'WP', 'EWP']].head()"
   ]
  },
  {
   "cell_type": "markdown",
   "metadata": {
    "slideshow": {
     "slide_type": "slide"
    }
   },
   "source": [
    "## Save to csv file"
   ]
  },
  {
   "cell_type": "code",
   "execution_count": 12,
   "metadata": {
    "slideshow": {
     "slide_type": "-"
    }
   },
   "outputs": [],
   "source": [
    "dm.to_csv('mlb_expected.csv')"
   ]
  },
  {
   "cell_type": "markdown",
   "metadata": {
    "slideshow": {
     "slide_type": "slide"
    }
   },
   "source": [
    "## Done"
   ]
  }
 ],
 "metadata": {
  "anaconda-cloud": {},
  "celltoolbar": "Slideshow",
  "kernelspec": {
   "display_name": "Python [default]",
   "language": "python",
   "name": "python3"
  },
  "language_info": {
   "codemirror_mode": {
    "name": "ipython",
    "version": 3
   },
   "file_extension": ".py",
   "mimetype": "text/x-python",
   "name": "python",
   "nbconvert_exporter": "python",
   "pygments_lexer": "ipython3",
   "version": "3.6.3"
  }
 },
 "nbformat": 4,
 "nbformat_minor": 1
}
